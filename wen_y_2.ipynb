{
 "cells": [
  {
   "cell_type": "code",
   "execution_count": 1,
   "metadata": {},
   "outputs": [
    {
     "name": "stdout",
     "output_type": "stream",
     "text": [
      "Populating the interactive namespace from numpy and matplotlib\n"
     ]
    }
   ],
   "source": [
    "%pylab inline\n",
    "import pandas as pd"
   ]
  },
  {
   "cell_type": "code",
   "execution_count": 6,
   "metadata": {},
   "outputs": [
    {
     "name": "stderr",
     "output_type": "stream",
     "text": [
      "/Users/mgbvox/anaconda3/lib/python3.7/site-packages/ipykernel_launcher.py:7: SettingWithCopyWarning: \n",
      "A value is trying to be set on a copy of a slice from a DataFrame.\n",
      "Try using .loc[row_indexer,col_indexer] = value instead\n",
      "\n",
      "See the caveats in the documentation: http://pandas.pydata.org/pandas-docs/stable/indexing.html#indexing-view-versus-copy\n",
      "  import sys\n",
      "/Users/mgbvox/anaconda3/lib/python3.7/site-packages/ipykernel_launcher.py:12: FutureWarning: Sorting because non-concatenation axis is not aligned. A future version\n",
      "of pandas will change to not sort by default.\n",
      "\n",
      "To accept the future behavior, pass 'sort=False'.\n",
      "\n",
      "To retain the current behavior and silence the warning, pass 'sort=True'.\n",
      "\n",
      "  if sys.path[0] == '':\n"
     ]
    }
   ],
   "source": [
    "m_2009 = pd.read_csv('movies_2009_2018_df.csv')\n",
    "m_1990 = pd.read_csv('movies_1990_2008.csv')\n",
    "raw_dfs = [m_2009, m_1990]\n",
    "clean_dfs = []\n",
    "for df in raw_dfs:\n",
    "    df = df.dropna(subset=['imdbID', 'BoxOffice'])\n",
    "    df['imdbID'] = df['imdbID'].apply(lambda x: int(x[2:]))\n",
    "    df = df.set_index('imdbID')\n",
    "    df = df[df.index.duplicated()==False]\n",
    "    clean_dfs.append(df)\n",
    "    \n",
    "m_all = pd.concat(clean_dfs,axis=0)\n",
    "m_all = m_all[m_all.index.duplicated()==False]"
   ]
  },
  {
   "cell_type": "code",
   "execution_count": 7,
   "metadata": {},
   "outputs": [],
   "source": [
    "'''Processing'''\n",
    "\n",
    "metadata = pd.read_csv('movies_metadata.csv', low_memory=False).dropna(subset=['imdb_id'])\n",
    "metadata = metadata[metadata['imdb_id'].str.contains('tt')]\n",
    "metadata['imdb_id'] = metadata['imdb_id'].apply(lambda x: int(x[2:]))\n",
    "\n",
    "metadata = metadata.set_index(metadata['imdb_id'], drop=True)\n",
    "\n",
    "metadata = metadata[metadata['budget'].str.isnumeric()]\n",
    "\n",
    "to_float = ['revenue','budget']\n",
    "for c in to_float:\n",
    "    try:\n",
    "        metadata = metadata[metadata[c].str.isnumeric()]\n",
    "    except:\n",
    "        #is already numeric\n",
    "        pass\n",
    "    metadata[c] = metadata[c].apply(lambda x: float(x))\n",
    "    metadata = metadata[metadata[c]>0]\n",
    "\n",
    "metadata['profit'] = metadata['revenue']-metadata['budget']\n",
    "\n",
    "metadata = metadata[metadata.index.duplicated()==False]"
   ]
  },
  {
   "cell_type": "code",
   "execution_count": 8,
   "metadata": {},
   "outputs": [],
   "source": [
    "import re\n",
    "\n",
    "intersection = m_all['BoxOffice'].index.intersection(metadata['profit'].index)\n",
    "box_office_profit = pd.concat([m_all['BoxOffice'].loc[intersection], metadata[['profit','id']].loc[intersection]], axis=1)\n",
    "box_office_profit['BoxOffice'] = box_office_profit['BoxOffice'].apply(lambda x: int(re.sub('[^0-9]','',x)))\n",
    "b_idx = box_office_profit['id'].apply(int)\n"
   ]
  },
  {
   "cell_type": "code",
   "execution_count": 9,
   "metadata": {},
   "outputs": [],
   "source": [
    "box_office_profit = box_office_profit.set_index(b_idx)"
   ]
  },
  {
   "cell_type": "code",
   "execution_count": 10,
   "metadata": {},
   "outputs": [
    {
     "data": {
      "text/html": [
       "<div>\n",
       "<style scoped>\n",
       "    .dataframe tbody tr th:only-of-type {\n",
       "        vertical-align: middle;\n",
       "    }\n",
       "\n",
       "    .dataframe tbody tr th {\n",
       "        vertical-align: top;\n",
       "    }\n",
       "\n",
       "    .dataframe thead th {\n",
       "        text-align: right;\n",
       "    }\n",
       "</style>\n",
       "<table border=\"1\" class=\"dataframe\">\n",
       "  <thead>\n",
       "    <tr style=\"text-align: right;\">\n",
       "      <th></th>\n",
       "      <th>BoxOffice</th>\n",
       "      <th>profit</th>\n",
       "      <th>id</th>\n",
       "    </tr>\n",
       "    <tr>\n",
       "      <th>id</th>\n",
       "      <th></th>\n",
       "      <th></th>\n",
       "      <th></th>\n",
       "    </tr>\n",
       "  </thead>\n",
       "  <tbody>\n",
       "    <tr>\n",
       "      <th>13183</th>\n",
       "      <td>107453620</td>\n",
       "      <td>55258983.0</td>\n",
       "      <td>13183</td>\n",
       "    </tr>\n",
       "    <tr>\n",
       "      <th>10521</th>\n",
       "      <td>58637818</td>\n",
       "      <td>84663461.0</td>\n",
       "      <td>10521</td>\n",
       "    </tr>\n",
       "    <tr>\n",
       "      <th>12437</th>\n",
       "      <td>45802315</td>\n",
       "      <td>56353501.0</td>\n",
       "      <td>12437</td>\n",
       "    </tr>\n",
       "    <tr>\n",
       "      <th>14560</th>\n",
       "      <td>146336178</td>\n",
       "      <td>157293131.0</td>\n",
       "      <td>14560</td>\n",
       "    </tr>\n",
       "    <tr>\n",
       "      <th>14836</th>\n",
       "      <td>75169351</td>\n",
       "      <td>64596398.0</td>\n",
       "      <td>14836</td>\n",
       "    </tr>\n",
       "  </tbody>\n",
       "</table>\n",
       "</div>"
      ],
      "text/plain": [
       "       BoxOffice       profit     id\n",
       "id                                  \n",
       "13183  107453620   55258983.0  13183\n",
       "10521   58637818   84663461.0  10521\n",
       "12437   45802315   56353501.0  12437\n",
       "14560  146336178  157293131.0  14560\n",
       "14836   75169351   64596398.0  14836"
      ]
     },
     "execution_count": 10,
     "metadata": {},
     "output_type": "execute_result"
    }
   ],
   "source": [
    "box_office_profit.head()"
   ]
  },
  {
   "cell_type": "code",
   "execution_count": 11,
   "metadata": {},
   "outputs": [],
   "source": [
    "ratings = pd.read_csv('ratings.csv')"
   ]
  },
  {
   "cell_type": "code",
   "execution_count": 12,
   "metadata": {},
   "outputs": [],
   "source": [
    "r = ratings.groupby('movieId').mean()['rating']"
   ]
  },
  {
   "cell_type": "code",
   "execution_count": 13,
   "metadata": {},
   "outputs": [],
   "source": [
    "b_idx = box_office_profit.index\n",
    "r_idx = r.index\n",
    "intersection = b_idx.intersection(r_idx)"
   ]
  },
  {
   "cell_type": "code",
   "execution_count": 14,
   "metadata": {},
   "outputs": [],
   "source": [
    "b_p_r_df = pd.concat([box_office_profit.loc[intersection], r.loc[intersection]], axis=1)[['BoxOffice','profit','rating']]"
   ]
  },
  {
   "cell_type": "code",
   "execution_count": 17,
   "metadata": {},
   "outputs": [
    {
     "data": {
      "text/plain": [
       "<matplotlib.axes._subplots.AxesSubplot at 0x1221efe10>"
      ]
     },
     "execution_count": 17,
     "metadata": {},
     "output_type": "execute_result"
    },
    {
     "data": {
      "image/png": "[encoded data removed]",
      "text/plain": [
       "<Figure size 432x288 with 1 Axes>"
      ]
     },
     "metadata": {
      "needs_background": "light"
     },
     "output_type": "display_data"
    }
   ],
   "source": [
    "b_p_r_df.plot.scatter('rating','profit')"
   ]
  },
  {
   "cell_type": "code",
   "execution_count": 16,
   "metadata": {},
   "outputs": [],
   "source": [
    "b_p_r_df.to_csv('box_office_profit_rating.csv')"
   ]
  },
  {
   "cell_type": "code",
   "execution_count": 18,
   "metadata": {},
   "outputs": [
    {
     "data": {
      "text/html": [
       "<div>\n",
       "<style scoped>\n",
       "    .dataframe tbody tr th:only-of-type {\n",
       "        vertical-align: middle;\n",
       "    }\n",
       "\n",
       "    .dataframe tbody tr th {\n",
       "        vertical-align: top;\n",
       "    }\n",
       "\n",
       "    .dataframe thead th {\n",
       "        text-align: right;\n",
       "    }\n",
       "</style>\n",
       "<table border=\"1\" class=\"dataframe\">\n",
       "  <thead>\n",
       "    <tr style=\"text-align: right;\">\n",
       "      <th></th>\n",
       "      <th>BoxOffice</th>\n",
       "      <th>profit</th>\n",
       "      <th>rating</th>\n",
       "    </tr>\n",
       "  </thead>\n",
       "  <tbody>\n",
       "    <tr>\n",
       "      <th>BoxOffice</th>\n",
       "      <td>1.000000</td>\n",
       "      <td>0.906781</td>\n",
       "      <td>-0.026055</td>\n",
       "    </tr>\n",
       "    <tr>\n",
       "      <th>profit</th>\n",
       "      <td>0.906781</td>\n",
       "      <td>1.000000</td>\n",
       "      <td>-0.046328</td>\n",
       "    </tr>\n",
       "    <tr>\n",
       "      <th>rating</th>\n",
       "      <td>-0.026055</td>\n",
       "      <td>-0.046328</td>\n",
       "      <td>1.000000</td>\n",
       "    </tr>\n",
       "  </tbody>\n",
       "</table>\n",
       "</div>"
      ],
      "text/plain": [
       "           BoxOffice    profit    rating\n",
       "BoxOffice   1.000000  0.906781 -0.026055\n",
       "profit      0.906781  1.000000 -0.046328\n",
       "rating     -0.026055 -0.046328  1.000000"
      ]
     },
     "execution_count": 18,
     "metadata": {},
     "output_type": "execute_result"
    }
   ],
   "source": [
    "b_p_r_df.corr()"
   ]
  },
  {
   "cell_type": "code",
   "execution_count": null,
   "metadata": {},
   "outputs": [],
   "source": []
  }
 ],
 "metadata": {
  "kernelspec": {
   "display_name": "Python 3",
   "language": "python",
   "name": "python3"
  },
  "language_info": {
   "codemirror_mode": {
    "name": "ipython",
    "version": 3
   },
   "file_extension": ".py",
   "mimetype": "text/x-python",
   "name": "python",
   "nbconvert_exporter": "python",
   "pygments_lexer": "ipython3",
   "version": "3.7.1"
  }
 },
 "nbformat": 4,
 "nbformat_minor": 2
}
